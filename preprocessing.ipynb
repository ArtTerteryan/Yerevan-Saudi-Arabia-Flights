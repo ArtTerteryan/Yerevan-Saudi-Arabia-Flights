{
 "cells": [
  {
   "cell_type": "code",
   "execution_count": 1,
   "metadata": {},
   "outputs": [],
   "source": [
    "import pandas as pd\n",
    "\n",
    "df = pd.read_csv('flights.csv')"
   ]
  },
  {
   "cell_type": "code",
   "execution_count": 2,
   "metadata": {},
   "outputs": [],
   "source": [
    "stopover_columns = ['out_stop2_airport', 'out_stop3_airport', 'return_stop1_airport', \n",
    "                    'return_stop2_airport', 'return_stop3_airport']\n",
    "df[stopover_columns] = df[stopover_columns].fillna('No Stop')\n",
    "\n",
    "numerical_columns = ['out_duration (min)', 'return_duration (min)', 'flight_price', \n",
    "                     'stop1_layover (min)', 'outb_stop2_layover (min)', 'out_stop3_layover (min)', \n",
    "                     'return_stop1_layover (min)', 'return_stop2_layover (min)', 'return_stop3_layover (min)', \n",
    "                     'out_stops_count', 'return_stops_count']\n",
    "df[numerical_columns] = df[numerical_columns].apply(pd.to_numeric, errors='coerce')\n",
    "\n",
    "df.drop_duplicates(inplace=True)\n"
   ]
  },
  {
   "cell_type": "code",
   "execution_count": 5,
   "metadata": {},
   "outputs": [
    {
     "name": "stdout",
     "output_type": "stream",
     "text": [
      "Unique values for column 'departure':\n",
      "['DMM' 'RUH' 'JED' 'EVN']\n",
      "--------------------------------------------------\n",
      "Unique values for column 'ret_departure':\n",
      "['EVN' 'MED' 'RUH' 'JED']\n",
      "--------------------------------------------------\n",
      "Unique values for column 'out_arrival_airport':\n",
      "['EVN' 'MED' 'RUH' 'JED']\n",
      "--------------------------------------------------\n",
      "Unique values for column 'return_arrival_airport':\n",
      "['DMM' 'RUH' 'JED' 'EVN']\n",
      "--------------------------------------------------\n",
      "Unique values for column 'flight_week_duration':\n",
      "['One Week' 'Two week' 'One Month']\n",
      "--------------------------------------------------\n",
      "Unique values for column 'out_stop3_airport':\n",
      "['No Stop' 'Vienna Intl' 'Tbilisi Intl' 'Istanbul Sabiha Gokcen'\n",
      " 'Riyadh King Khaled Intl']\n",
      "--------------------------------------------------\n",
      "Unique values for column 'out_stop3_layover (min)':\n",
      "[  0 180 230 320 500 600 650 450 710 385 295  60 285 165  75 195]\n",
      "--------------------------------------------------\n",
      "Unique values for column 'return_stop3_airport':\n",
      "['No Stop' 'Riyadh King Khaled Intl' 'Tbilisi Intl']\n",
      "--------------------------------------------------\n",
      "Unique values for column 'return_stop3_layover (min)':\n",
      "[  0 125 385]\n",
      "--------------------------------------------------\n",
      "Unique values for column 'out_stops_count':\n",
      "[1 2 3]\n",
      "--------------------------------------------------\n",
      "Unique values for column 'return_stops_count':\n",
      "[1 0 2 3]\n",
      "--------------------------------------------------\n",
      "Unique values for column 'flight_route':\n",
      "['DMM EVN' 'RUH EVN' 'JED EVN' 'EVN MED' 'EVN RUH' 'EVN JED']\n",
      "--------------------------------------------------\n"
     ]
    }
   ],
   "source": [
    "columns_to_check = ['departure', 'ret_departure', 'out_arrival_airport', 'return_arrival_airport', \n",
    "                    'flight_week_duration', 'out_stop3_airport', 'out_stop3_layover (min)', \n",
    "                    'return_stop3_airport', 'return_stop3_layover (min)', 'out_stops_count', \n",
    "                    'return_stops_count', 'flight_route']\n",
    "\n",
    "for column in columns_to_check:\n",
    "    print(f\"Unique values for column '{column}':\")\n",
    "    print(df[column].unique())\n",
    "    print(\"-\" * 50)\n"
   ]
  },
  {
   "cell_type": "code",
   "execution_count": null,
   "metadata": {},
   "outputs": [],
   "source": []
  },
  {
   "cell_type": "code",
   "execution_count": null,
   "metadata": {},
   "outputs": [],
   "source": []
  }
 ],
 "metadata": {
  "kernelspec": {
   "display_name": "base",
   "language": "python",
   "name": "python3"
  },
  "language_info": {
   "codemirror_mode": {
    "name": "ipython",
    "version": 3
   },
   "file_extension": ".py",
   "mimetype": "text/x-python",
   "name": "python",
   "nbconvert_exporter": "python",
   "pygments_lexer": "ipython3",
   "version": "3.11.5"
  }
 },
 "nbformat": 4,
 "nbformat_minor": 2
}
